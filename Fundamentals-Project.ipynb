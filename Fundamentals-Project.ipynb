{
 "cells": [
  {
   "cell_type": "code",
   "execution_count": 2,
   "metadata": {},
   "outputs": [],
   "source": [
    "import matplotlib.pyplot as plt"
   ]
  },
  {
   "cell_type": "markdown",
   "metadata": {},
   "source": [
    "Plan (draft 1):\n",
    "-\tIntro: Explain the task ahead, and what you hope the notebook will contain\n",
    "-\tExplain simple linear regression.\n",
    "        - What makes it simple?\n",
    "        - How does it work?\n",
    "-\tInspect data\n",
    "\n",
    "# Introduction\n",
    "\n",
    "The purpose of this project is to train a model with the ` powerproduction` dataset to predict the electrical power output for a given wind speed. The model in question is a simple linear regression model which is explained below. The objective is to get an as accurate prediction as possible. We will first inspect the data and prepare it for training (we will have to split the data into training and testing groups). We will then train our model and do analysis to determine its accuracy. Lastly we will compare this to other types of regression.\n",
    "\n",
    "## What is Simple Linear regression?\n",
    "\n",
    "Firstly regression is “a statistical method used in finance, investing, and other disciplines that attempts to determine the strength and character of the relationship between one dependent variable (usually denoted by Y) and a series of other variables (known as independent variables).”[1]\n",
    "[1] Brian Beers [online], “Regression Definition”, https://www.investopedia.com/terms/r/regression.asp (accessed 25/10/2020)\n",
    "\n",
    "What this means is that when we talk about regression we are talking about cause and effect. With regression you test how much effect a set of measurements (called independent variables) have on a particular outcome measurement (or a dependent variable). By analysing this relationship it is the intended purpose to be able to predict an unknown outcome variable (the dependent variable) when the independent variables are known.\n",
    "\n",
    "Simple linear regression is when there is only one dependent variable. You are hoping that there is a direct correlation between you independent and dependent variable. You’ll see later that this is representative of a straight line.\n",
    "\n",
    "### How simple linear regression works\n",
    "\n",
    "Lets take a car as an example. Lets say we know the distance of the car at particular time intervals as given here:"
   ]
  },
  {
   "cell_type": "code",
   "execution_count": 4,
   "metadata": {},
   "outputs": [],
   "source": [
    "# distance in meters\n",
    "distance = [0, 2, 4, 6, 8, 10, 12, 14, 16]\n",
    "# time in seconds\n",
    "times  = [0, 5, 10, 15, 20, 25, 30, 35, 40]"
   ]
  },
  {
   "cell_type": "markdown",
   "metadata": {},
   "source": [
    "so our initial distance and time are zero and at 40 seconds our distance is 16 meters from our starting point. If we assume that the road the car is driving on has the same constancy through out and the only thing in the car that changes is the speed and distance from the starting point, we can map time verses distance "
   ]
  },
  {
   "cell_type": "code",
   "execution_count": 6,
   "metadata": {},
   "outputs": [
    {
     "data": {
      "image/png": "[encoded data removed]",
      "text/plain": [
       "<Figure size 432x288 with 1 Axes>"
      ]
     },
     "metadata": {
      "needs_background": "light"
     },
     "output_type": "display_data"
    }
   ],
   "source": [
    "plt.plot(times, distance)\n",
    "plt.show()"
   ]
  },
  {
   "cell_type": "markdown",
   "metadata": {},
   "source": [
    "the line drawn is just one way of representing this data but what we have drawn is a simple line of equation:\n",
    "\n",
    "$$ y = mx + c $$\n",
    "\n",
    "where:\n",
    "- $ y = distance $\n",
    "- $ x = time $\n",
    "- $ m = speed $\n",
    "- $ c = constant \\: (zero \\: because \\: line \\: goes \\: through \\: origin)$\n",
    "\n",
    "So filling in our line above can be represented as:\n",
    "\n",
    "$$ distance = speed(time) $$\n",
    "\n"
   ]
  },
  {
   "cell_type": "code",
   "execution_count": null,
   "metadata": {},
   "outputs": [],
   "source": []
  }
 ],
 "metadata": {
  "kernelspec": {
   "display_name": "Python 3",
   "language": "python",
   "name": "python3"
  },
  "language_info": {
   "codemirror_mode": {
    "name": "ipython",
    "version": 3
   },
   "file_extension": ".py",
   "mimetype": "text/x-python",
   "name": "python",
   "nbconvert_exporter": "python",
   "pygments_lexer": "ipython3",
   "version": "3.8.3"
  }
 },
 "nbformat": 4,
 "nbformat_minor": 4
}
