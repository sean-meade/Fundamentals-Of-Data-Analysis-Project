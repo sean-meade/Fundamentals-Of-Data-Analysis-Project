{
 "cells": [
  {
   "cell_type": "code",
   "execution_count": 1,
   "metadata": {},
   "outputs": [],
   "source": [
    "# import relevant modules\n",
    "import matplotlib.pyplot as plt\n",
    "import csv\n",
    "import numpy as np\n",
    "import pandas as pd\n",
    "from sklearn.model_selection import train_test_split\n",
    "from sklearn import linear_model"
   ]
  },
  {
   "cell_type": "markdown",
   "metadata": {},
   "source": [
    "# Introduction\n",
    "\n",
    "The purpose of this project is to train a model with the ` powerproduction` dataset to predict the electrical power output for a given wind speed. The model in question is a simple linear regression model which is explained below. The objective is to get an as accurate prediction as possible. We will first inspect the data and prepare it for training (we will have to split the data into training and testing groups). We will then train our model and do analysis to determine its accuracy. Lastly we will compare this to other types of regression.\n",
    "\n",
    "## What is Simple Linear regression?\n",
    "\n",
    "Firstly regression is “a statistical method used in finance, investing, and other disciplines that attempts to determine the strength and character of the relationship between one dependent variable (usually denoted by Y) and a series of other variables (known as independent variables).[1]\n",
    "\n",
    "What this means is that when we talk about regression we are talking about cause and effect. With regression you test how much effect a set of measurements (called independent variables) have on a particular outcome measurement (or a dependent variable). By analysing this relationship it is the intended purpose to be able to predict an unknown outcome variable (the dependent variable) when the independent variables are known.\n",
    "\n",
    "Simple linear regression is when there is only one dependent variable. You are hoping that there is a direct correlation between you independent and dependent variable. You’ll see later that this is representative of a straight line (hence the term linear).\n",
    "\n",
    "### How simple linear regression works\n",
    "\n",
    "A lot of this understanding came from Ian McLoughlins repository on simple linear regression. [2]\n",
    "\n",
    "Lets take a car as an example. Lets say we know the distance of the car at particular time intervals as given here:"
   ]
  },
  {
   "cell_type": "code",
   "execution_count": 2,
   "metadata": {},
   "outputs": [],
   "source": [
    "# distance in meters\n",
    "distance = [0, 2, 4, 6, 8, 10, 12, 14, 16]\n",
    "# time in seconds\n",
    "times  = [0, 5, 10, 15, 20, 25, 30, 35, 40]"
   ]
  },
  {
   "cell_type": "markdown",
   "metadata": {},
   "source": [
    "so our initial distance and time are zero and at 40 seconds our distance is 16 meters from our starting point. If we assume that the road the car is driving on has the same constancy through out and the only thing in the car that changes is the speed and distance from the starting point, we can map time verses distance."
   ]
  },
  {
   "cell_type": "code",
   "execution_count": 3,
   "metadata": {},
   "outputs": [
    {
     "data": {
      "image/png": "[encoded data removed]",
      "text/plain": [
       "<Figure size 432x288 with 1 Axes>"
      ]
     },
     "metadata": {
      "needs_background": "light"
     },
     "output_type": "display_data"
    }
   ],
   "source": [
    "plt.plot(times, distance)\n",
    "plt.scatter(times, distance, c=\"r\")\n",
    "plt.show()"
   ]
  },
  {
   "cell_type": "markdown",
   "metadata": {},
   "source": [
    "the line drawn is just one way of representing this data but what we have drawn is a simple line of equation:\n",
    "\n",
    "$$ y = mx + c $$\n",
    "\n",
    "where:\n",
    "- $ y = displacement (s) $\n",
    "- $ x = time (t) $\n",
    "- $ m = speed/velocity (v) $\n",
    "- $ c = constant \\: (zero \\: because \\: line \\: goes \\: through \\: origin)$\n",
    "\n",
    "So filling in our line above can be represented as (no constant because it goes through centre (0, 0)):\n",
    "\n",
    "$$ displacement = speed(time) $$\n",
    "\n",
    "So rearranging we can use this formula to determine the speed at any given displacement and time.\n",
    "\n",
    "$$ speed = \\frac{displacement}{time} $$\n",
    "\n",
    "And this is what a linear regresson model does. It gives you, based on the data points given, the best fitting straight line to these points. \n",
    "\n",
    "The thing is the world isn't always exact as the above example. Plus what has this simple model got to do with linear regression?? We're nearly there, promise.\n",
    "\n",
    "First we'll need a set of measurements that are more like real world data (a little scattered). Our first element as well will be off the center just to make things interesting."
   ]
  },
  {
   "cell_type": "code",
   "execution_count": 4,
   "metadata": {},
   "outputs": [],
   "source": [
    "# distance in meters\n",
    "s = [1, 2, 3, 6, 7, 10, 12, 15, 16]\n",
    "# time in seconds\n",
    "t  = [0, 5, 10, 15, 20, 25, 30, 35, 40]"
   ]
  },
  {
   "cell_type": "code",
   "execution_count": 5,
   "metadata": {},
   "outputs": [
    {
     "data": {
      "image/png": "[encoded data removed]",
      "text/plain": [
       "<Figure size 432x288 with 1 Axes>"
      ]
     },
     "metadata": {
      "needs_background": "light"
     },
     "output_type": "display_data"
    }
   ],
   "source": [
    "plt.plot(times, distance)\n",
    "plt.scatter(t, s, c=\"r\")\n",
    "plt.scatter(t[4], s[4], c=\"g\")\n",
    "plt.show()"
   ]
  },
  {
   "cell_type": "markdown",
   "metadata": {},
   "source": [
    "I have fabricated this data. But what if you were given the above as \"real\" data and wanted to find the best fitted line?\n",
    "\n",
    "### Well what do we mean by \"best fit\"?\n",
    "\n",
    "By best fit we mean that the error between our orignal data and our predictive simple linear model is, collectively, lowest. We will calculate this error as the difference between our \"real\" displacement and that of our model (or line). This error (which we will represent as $ \\varepsilon $ for the sum of and $ e $ for a single value) is denoted by $ e_i = y_i - \\hat{y}_i $. Where $ y $ is the value of the displacement of a point given in the data and $ \\hat{y} $ is the value of the displacement in our model for the same $ x $ (time in this case).\n",
    "\n",
    "![Explaining Error](imgs/ExplainingError.png)\n",
    "\n",
    "Let's take point 5 (the green dot above) to explain this. The green dot doesn't fall on the line. Which means that when using this simple linear regression model there is an error here. Our $ y_i $ in this instance is 7 and our $ \\hat{y}_i $ is 8. Remember these ore our data value and model value of displacement for the same time ($ x_i $ in this instance). Now we can use our error equation:\n",
    "\n",
    "$$ e_i = y_i - \\hat{y}_i $$\n",
    "\n",
    "It is work pointing out that $ y_i $ is the $ y $ value of the $ i^th $ point in our dataset and $ \\hat{y}_i $ is the value given from the equation of the line:\n",
    "\n",
    "$$ \\hat{y}_i = mx_i + c $$\n",
    "\n",
    "\n",
    "Now we're currently investigating the 5th point so lets fill that in for continuity.\n",
    "\n",
    "$$ e_5 = y_5 - \\hat{y}_5 $$\n",
    "\n",
    "Now our values:\n",
    "\n",
    "$$ e_5 = 7 - 8 $$\n",
    "\n",
    "To the keen observer there is an inherent problem here. The error here is minus one and the error somewhere else could be +1 and then if we're supposed to find an accumulative error then we're kind of goosed. So we have two choices (probably more but let's keep it simple for now), before adding them we could:\n",
    "\n",
    "- Use the absolute value of each error (called the least absolute value) or\n",
    "- Use the squared valued of each error (called the least squares value)\n",
    "\n",
    "Later on I'll have to work out the slope and the constant of the line. I'll do this with differentiation so the absolute value will just turn to zero. So going forward I will be using the least squares value:\n",
    "\n",
    "Least squares value (LSV): $$ e_i = {(y_i - \\hat{y}_i)}^2 $$\n",
    "\n",
    "So when we add the above for each point this is how we will judge the accuracy of our model. In other words it will be the error for each data point added together:\n",
    "\n",
    "$$ \\varepsilon = \\sum_{n}^{i=1}e_i $$\n",
    "\n",
    "Great! We have a way to judge how accurate our chosen line is! So how do I go about choosing lines ..... \n",
    "\n",
    "Turns out I have to back to my equation of a line from above. We want our model to be as accurate as we can make it so we won't limit it by saying it has to go through the center (meaning we will use a constant & c & if it means a more accurate fitted line).\n",
    "\n",
    "I also need to revamp the notation of the line. It is technically the same it just looks different:\n",
    "\n",
    "$$ \\hat{y}_i = b_0 + b_1x_i $$\n",
    "\n",
    "Where:\n",
    "\n",
    "- $ x_i $ are our independent variables.\n",
    "- $ \\hat{y}_i $ are the dependent variables produced by the model.\n",
    "- $ b_0 $ is where the line crosses the y-axis (denoted above as c).\n",
    "- $ b_1 $ is the slop of the line (denoted above as m).\n",
    "\n",
    "So basically we have to find the values for $ b_0 $ and $ b_1 $ the minimize the error $ \\varepsilon $. We know that our error is the following:\n",
    "$$ \\varepsilon = \\sum_{n}^{i=1}{(y_i - \\hat{y}_i)}^2 $$\n",
    "\n",
    "And that:\n",
    "\n",
    "$$ \\hat{y}_i = mx_i + c $$\n",
    "\n",
    "So filling in we get:\n",
    "\n",
    "$$ \\varepsilon = \\sum_{n}^{i=1}{(y_i - mx_i - c)}^2 $$\n",
    "\n",
    "Filling in the new notation:\n",
    "\n",
    "$$ \\varepsilon = \\sum_{n}^{i=1}{(y_i - b_1x_i - b_0)}^2 $$\n",
    "\n",
    "We will first differentiate the error with repect to the slope $ b_1 $ while treating $ b_0 $ as a constant:\n",
    "\n",
    "$$ \\frac{\\delta \\varepsilon}{\\delta b_1} = \\frac{\\sum_{n}^{i=1}{(y_i - b_1x_i - b_0)}^2}{\\delta b_1} $$\n",
    "\n",
    "Becomes:\n",
    "\n",
    "$$ \\rightarrow \\frac{\\delta \\varepsilon}{\\delta b_1} = -2\\sum_{n}^{i=1}(y_i - b_1x_i - b_0)(x_i) $$\n",
    "\n",
    "And similarly differentiating the error with repect to $ b_0 $ while treating $ b_1 $ as a constant:\n",
    "\n",
    "$$ \\frac{\\delta \\varepsilon}{\\delta b_0} = \\frac{\\sum_{n}^{i=1}{(y_i - b_1x_i - b_0)}^2}{\\delta b_0} $$\n",
    "\n",
    "Becomes:\n",
    "\n",
    "$$ \\rightarrow \\frac{\\delta \\varepsilon}{\\delta b_0} = -2\\sum_{n}^{i=1}(y_i - b_1x_i - b_0) $$\n",
    "\n",
    "Now set them both equal to zero and solve them as simultaneous equations with two variables:\n",
    "\n",
    "For $ b_1 $ the slope of the line: \n",
    "\n",
    "$$ \\frac{\\delta \\varepsilon}{\\delta b_1} = 0 $$\n",
    "\n",
    "$$ \\rightarrow -2\\sum_{n}^{i=1}(y_i - b_1x_i - b_0)(x_i) = 0 $$\n",
    "\n",
    "$$ \\rightarrow \\sum_{n}^{i=1}(y_i - b_1x_i - b_0)(x_i) = 0 $$\n",
    "\n",
    "$$ \\rightarrow \\sum_{n}^{i=1}(y_ix_i - b_1{x_i}^2 - b_0x_i) = 0 $$\n",
    "\n",
    "$$ \\rightarrow \\sum_{n}^{i=1}y_ix_i - \\sum_{n}^{i=1}b_1{x_i}^2 - \\sum_{n}^{i=1}b_0x_i = 0 $$\n",
    "\n",
    "$$ \\rightarrow b_1\\sum_{n}^{i=1}{x_i}^2 = \\sum_{n}^{i=1}y_ix_i - b_0\\sum_{n}^{i=1}x_i $$\n",
    "\n",
    "$$ \\rightarrow b_1 = \\frac{\\sum_{n}^{i=1}y_ix_i - b_0\\sum_{n}^{i=1}x_i}{\\sum_{n}^{i=1}{x_i}^2} $$\n",
    "\n",
    "For $ b_0 $ the y intercept of the line: \n",
    "\n",
    "$$ \\frac{\\delta \\varepsilon}{\\delta b_0} = 0 $$\n",
    "\n",
    "$$ \\rightarrow -2\\sum_{n}^{i=1}(y_i - b_1x_i - b_0) = 0 $$\n",
    "\n",
    "$$ \\rightarrow \\sum_{n}^{i=1}y_i - \\sum_{n}^{i=1}b_1x_i - \\sum_{n}^{i=1}b_0 = 0 $$\n",
    "\n",
    "$$ \\rightarrow \\sum_{n}^{i=1}y_i - b_1\\sum_{n}^{i=1}x_i - b_0\\sum_{n}^{i=1}1 = 0 $$\n",
    "\n",
    "$$ \\rightarrow b_0\\sum_{n}^{i=1}1 = \\sum_{n}^{i=1}y_i - b_1\\sum_{n}^{i=1}x_i $$\n",
    "\n",
    "$$ \\rightarrow b_0 = \\frac{\\sum_{n}^{i=1}y_i - b_1\\sum_{n}^{i=1}x_i}{\\sum_{n}^{i=1}1} $$\n",
    "\n",
    "$$ \\rightarrow b_0 = \\frac{\\sum_{n}^{i=1}y_i}{\\sum_{n}^{i=1}1} - \\frac{b_1\\sum_{n}^{i=1}x_i}{\\sum_{n}^{i=1}1} $$\n",
    "\n",
    "Where $ \\frac{\\sum_{n}^{i=1}y_i}{\\sum_{n}^{i=1}1} $ and $ \\frac{\\sum_{n}^{i=1}x_i}{\\sum_{n}^{i=1}1} $ are the mean values $ \\bar y $ and $ \\bar x $ respectively:\n",
    "\n",
    "$$ \\rightarrow b_0 = \\bar y - b_1 \\bar x $$\n",
    "\n",
    "Solving the simultaeous equations:\n",
    "\n",
    "$$ b_1 = \\frac{\\sum_{n}^{i=1}y_ix_i - b_0\\sum_{n}^{i=1}x_i}{\\sum_{n}^{i=1}{x_i}^2} $$\n",
    "\n",
    "$$ \\rightarrow b_1 = \\frac{\\sum_{n}^{i=1}y_ix_i - (\\bar y - b_1 \\bar x)\\sum_{n}^{i=1}x_i}{\\sum_{n}^{i=1}{x_i}^2} $$\n",
    "\n",
    "$$ \\rightarrow b_1 \\sum_{n}^{i=1}{x_i}^2 = \\sum_{n}^{i=1}y_ix_i - (\\bar y - b_1 \\bar x)\\sum_{n}^{i=1}x_i $$\n",
    "\n",
    "$$ \\rightarrow b_1 \\sum_{n}^{i=1}{x_i}^2 = \\sum_{n}^{i=1}y_ix_i + b_1 \\bar x\\sum_{n}^{i=1}x_i -\\bar y\\sum_{n}^{i=1}x_i $$\n",
    "\n",
    "$$ \\rightarrow b_1 \\sum_{n}^{i=1}{x_i}^2 - b_1 \\bar x\\sum_{n}^{i=1}x_i = \\sum_{n}^{i=1}y_ix_i -\\bar y\\sum_{n}^{i=1}x_i $$\n",
    "\n",
    "$$ \\rightarrow b_1 (\\sum_{n}^{i=1}{x_i}^2 - \\bar x\\sum_{n}^{i=1}x_i) = \\sum_{n}^{i=1}y_ix_i -\\bar y\\sum_{n}^{i=1}x_i $$\n",
    "\n",
    "$$ \\rightarrow b_1 = \\frac{\\sum_{n}^{i=1}y_ix_i -\\bar y\\sum_{n}^{i=1}x_i }{\\sum_{n}^{i=1}{x_i}^2 - \\bar x\\sum_{n}^{i=1}x_i} $$\n",
    "\n",
    "And because n is the number of values in the given dataset when we multiply the mean by n it is equal to adding up every number (i.e. $ n\\bar x = \\sum_{n}^{i=1}x_i $). So filling in we get:\n",
    "\n",
    "$$ \\rightarrow b_1 = \\frac{\\sum_{n}^{i=1}y_ix_i -n\\bar y\\bar x }{\\sum_{n}^{i=1}{x_i}^2 - n\\bar x \\bar x} $$"
   ]
  },
  {
   "cell_type": "code",
   "execution_count": 6,
   "metadata": {},
   "outputs": [
    {
     "name": "stdout",
     "output_type": "stream",
     "text": [
      "Slope:  0.4\n",
      "y intercept:  0.0\n"
     ]
    },
    {
     "data": {
      "text/plain": [
       "[<matplotlib.lines.Line2D at 0x1fb4cca3610>]"
      ]
     },
     "execution_count": 6,
     "metadata": {},
     "output_type": "execute_result"
    },
    {
     "data": {
      "image/png": "[encoded data removed]",
      "text/plain": [
       "<Figure size 432x288 with 1 Axes>"
      ]
     },
     "metadata": {
      "needs_background": "light"
     },
     "output_type": "display_data"
    }
   ],
   "source": [
    "# distance in meters\n",
    "y = [1, 2, 3, 6, 7, 10, 12, 15, 16]\n",
    "# time in seconds\n",
    "x  = [0, 5, 10, 15, 20, 25, 30, 35, 40]\n",
    "\n",
    "ybar = []\n",
    "\n",
    "# find the coefficient\n",
    "b1 = (sum(y)*sum(x) - len(x)*(sum(y)/len(y))*(sum(x)/len(x)))/((sum(x))**2- (len(x)*(sum(x)/len(x))*(sum(x)/len(x))))\n",
    "\n",
    "# find the constant\n",
    "b0 = (sum(y)/len(y)) - b1*(sum(x)/len(x))\n",
    "\n",
    "# print both\n",
    "print(\"Slope: \", b1)\n",
    "print(\"y intercept: \", b0)\n",
    "\n",
    "# use them to draw the line\n",
    "for i in range(0, len(x)):\n",
    "    ybar.append(b1*x[i] + b0)\n",
    "    \n",
    "# plot both the line and the points\n",
    "plt.scatter(x, y, c=\"r\")    \n",
    "plt.plot(x, ybar, c=\"m\")"
   ]
  },
  {
   "cell_type": "markdown",
   "metadata": {},
   "source": [
    "The principles above are what created the `simpleLinearRegression` function below."
   ]
  },
  {
   "cell_type": "code",
   "execution_count": 7,
   "metadata": {},
   "outputs": [],
   "source": [
    "def simpleLinearRegression(x, y, plot = False):\n",
    "\n",
    "    yhat = []\n",
    "    errors = []\n",
    "\n",
    "    # find the coefficient\n",
    "    b1 = (sum(y)*sum(x) - len(x)*(sum(y)/len(y))*(sum(x)/len(x)))/((sum(x))**2- (len(x)*(sum(x)/len(x))*(sum(x)/len(x))))\n",
    "\n",
    "    # find the constant\n",
    "    b0 = (sum(y)/len(y)) - b1*(sum(x)/len(x))\n",
    "    \n",
    "    # create the line and mse errors\n",
    "    for i in range(0, len(x)):\n",
    "        yhat.append(b1*x[i] + b0)\n",
    "        errors.append((y[i] - yhat[i])**2)\n",
    "        \n",
    "    accuarcy = sum(errors)/len(errors)\n",
    "    print(\"The mean squared value is:\", accuarcy)\n",
    "    print(\"The coefficient value is:\", b1)\n",
    "    print(\"The constant value is:\", b0)\n",
    "        \n",
    "    if plot == True:\n",
    "        plt.scatter(x, y, c=\"r\")    \n",
    "        plt.plot(x, yhat, c=\"m\")\n",
    "    \n",
    "    return b0, b1"
   ]
  },
  {
   "cell_type": "code",
   "execution_count": 8,
   "metadata": {},
   "outputs": [
    {
     "name": "stdout",
     "output_type": "stream",
     "text": [
      "The mean squared value is: 274.82848646662154\n",
      "The coefficient value is: 4.093356794783924\n",
      "The constant value is: -7.105427357601002e-15\n"
     ]
    },
    {
     "data": {
      "text/plain": [
       "(-7.105427357601002e-15, 4.093356794783924)"
      ]
     },
     "execution_count": 8,
     "metadata": {},
     "output_type": "execute_result"
    },
    {
     "data": {
      "image/png": "[encoded data removed]",
      "text/plain": [
       "<Figure size 432x288 with 1 Axes>"
      ]
     },
     "metadata": {
      "needs_background": "light"
     },
     "output_type": "display_data"
    }
   ],
   "source": [
    "# import csv data and convert to pandas dataframe\n",
    "df = pd.read_csv(\"powerproduction.csv\")\n",
    "\n",
    "# remove all zeros\n",
    "df = df[df.power != 0]\n",
    "\n",
    "# put rows in order of speed\n",
    "df = df.sort_values('speed')\n",
    "\n",
    "# set each column to a numpy array for processing\n",
    "S = df['speed'].to_numpy()\n",
    "p = df['power'].to_numpy()\n",
    "    \n",
    "simpleLinearRegression(S, p, plot = True)"
   ]
  },
  {
   "cell_type": "markdown",
   "metadata": {},
   "source": [
    "# Results\n",
    "\n",
    "More accurate versions of the function above exist in both scikit learn and NumPy. The following is a comparison of all all three (including the one above). The mean squared value will be used to measure the accuracy of them. It takes the actual value of power and subtracts the predicted value and squares the difference. It does this for each point and the adds the values and divides by the number of points. [3]\n",
    "\n",
    "$$ MSE = \\frac{1}{n} \\sum^n_{i=1} (Y_i - \\hat{Y}_i )^2 $$\n",
    "\n",
    "Where $ n $ is number of points to be compated, $ Y_i $ are the actual values and $ \\hat{Y}_i $ are the predicted values."
   ]
  },
  {
   "cell_type": "code",
   "execution_count": 9,
   "metadata": {},
   "outputs": [],
   "source": [
    "def mean_squared_error(actual, predicted):\n",
    "    \"\"\"\n",
    "    Takes two numpy arrays the actual values and the predicted values to \n",
    "    determine the accuracy of the prediction.\n",
    "    \"\"\"\n",
    "    ms = 0\n",
    "    # loop through and calculate the mse for each point and add it to ms\n",
    "    for point in range(len(actual)):\n",
    "        error = (actual[point] - predicted[point])**2\n",
    "        ms += error\n",
    "    # calculate the total mse and return\n",
    "    mse = ms/len(actual)\n",
    "    return mse"
   ]
  },
  {
   "cell_type": "markdown",
   "metadata": {},
   "source": [
    "In order to  keep things \"fair\" a final test on all models using optimal values on the same subset of the orignal data set."
   ]
  },
  {
   "cell_type": "code",
   "execution_count": 10,
   "metadata": {},
   "outputs": [],
   "source": [
    "# In order to keep the shape right to be processed by sklearn\n",
    "X = S.reshape(-1, 1)\n",
    "\n",
    "# Slit the data set to 80/20\n",
    "X_train, X_test, y_train, y_test = train_test_split(X, p, test_size=0.2\n",
    "                                                    , random_state=3)"
   ]
  },
  {
   "cell_type": "markdown",
   "metadata": {},
   "source": [
    "We'll start with scikit learn [4]:"
   ]
  },
  {
   "cell_type": "code",
   "execution_count": 11,
   "metadata": {},
   "outputs": [
    {
     "name": "stdout",
     "output_type": "stream",
     "text": [
      "The mean squared value is: 164.36056125870337\n",
      "The coefficient value is: 5.58692204782256\n",
      "The constant value is: -19.275982752597542\n"
     ]
    },
    {
     "data": {
      "image/png": "[encoded data removed]",
      "text/plain": [
       "<Figure size 432x288 with 1 Axes>"
      ]
     },
     "metadata": {
      "needs_background": "light"
     },
     "output_type": "display_data"
    }
   ],
   "source": [
    "# Create linear regression object\n",
    "regr = linear_model.LinearRegression()\n",
    "\n",
    "# Train the model using the training sets\n",
    "regr.fit(X_train, y_train)\n",
    "\n",
    "# Make predictions using the testing set\n",
    "y_pred_sk = regr.predict(X_test)\n",
    "\n",
    "\n",
    "print(\"The mean squared value is:\", mean_squared_error(y_test, y_pred_sk))\n",
    "print(\"The coefficient value is:\", regr.coef_[0])\n",
    "print(\"The constant value is:\", regr.intercept_)\n",
    "\n",
    "\n",
    "# Plot outputs\n",
    "plt.scatter(S, p, c=\"r\")\n",
    "plt.plot(X_test, y_pred_sk, c=\"k\")\n",
    "plt.show()"
   ]
  },
  {
   "cell_type": "markdown",
   "metadata": {},
   "source": [
    "Next NumPy with `polyfit` [5]:"
   ]
  },
  {
   "cell_type": "code",
   "execution_count": 12,
   "metadata": {},
   "outputs": [
    {
     "name": "stdout",
     "output_type": "stream",
     "text": [
      "The mean squared value is: 164.3605612587034\n",
      "The coefficient value is: 5.586922047822559\n",
      "The constant value is: -19.27598275259753\n"
     ]
    },
    {
     "data": {
      "image/png": "[encoded data removed]",
      "text/plain": [
       "<Figure size 432x288 with 1 Axes>"
      ]
     },
     "metadata": {
      "needs_background": "light"
     },
     "output_type": "display_data"
    }
   ],
   "source": [
    "a, b = np.polyfit(np.concatenate( X_train, axis=0 ), y_train, 1)\n",
    "\n",
    "y_pred_np = a * np.concatenate( X_test, axis=0 ) + b\n",
    "\n",
    "print(\"The mean squared value is:\", mean_squared_error(y_test, y_pred_np))\n",
    "print(\"The coefficient value is:\", a)\n",
    "print(\"The constant value is:\", b)\n",
    "\n",
    "plt.scatter(S, p, c=\"r\")\n",
    "plt.plot(X_test, y_pred_np, c=\"k\")\n",
    "plt.show()"
   ]
  },
  {
   "cell_type": "markdown",
   "metadata": {},
   "source": [
    "They both result in the same values. Lastly will take a look at `simpleLinearRegression`:"
   ]
  },
  {
   "cell_type": "code",
   "execution_count": 13,
   "metadata": {
    "scrolled": true
   },
   "outputs": [
    {
     "name": "stdout",
     "output_type": "stream",
     "text": [
      "The mean squared value is: [267.09742814]\n",
      "The coefficient value is: [4.12349268]\n",
      "The constant value is: [0.]\n"
     ]
    },
    {
     "data": {
      "image/png": "[encoded data removed]",
      "text/plain": [
       "<Figure size 432x288 with 1 Axes>"
      ]
     },
     "metadata": {
      "needs_background": "light"
     },
     "output_type": "display_data"
    }
   ],
   "source": [
    "b0, b1 = simpleLinearRegression(X_train, y_train, plot = False)\n",
    "\n",
    "y_pred = b1 * np.concatenate( X_test, axis=0 ) + b0\n",
    "\n",
    "\n",
    "plt.scatter(S, p, c=\"r\")\n",
    "plt.plot(X_test, y_pred, c=\"k\")\n",
    "plt.show()"
   ]
  },
  {
   "cell_type": "markdown",
   "metadata": {},
   "source": [
    "# END\n",
    "---\n",
    "\n",
    "# References\n",
    "\n",
    "[1] Brian Beers [online], \"Regression Definition\", https://www.investopedia.com/terms/r/regression.asp\n",
    "\n",
    "[2] Ian McLoughlin [online], \"Simple Linear Regression with NumPy\", https://github.com/ianmcloughlin/jupyter-teaching-notebooks/blob/master/simple-linear-regression.ipynb\n",
    "\n",
    "[3] Wikipedia [online], \"Mean squared error\", https://en.wikipedia.org/wiki/Mean_squared_error\n",
    "\n",
    "[4] scikit-learn developers [online], \"sklearn.linear_model.LinearRegression\", https://scikit-learn.org/stable/modules/generated/sklearn.linear_model.LinearRegression.html\n",
    "\n",
    "[5] The SciPy community [online], \"numpy.polyfit\", https://numpy.org/doc/stable/reference/generated/numpy.polyfit.html\n"
   ]
  }
 ],
 "metadata": {
  "kernelspec": {
   "display_name": "Python 3",
   "language": "python",
   "name": "python3"
  },
  "language_info": {
   "codemirror_mode": {
    "name": "ipython",
    "version": 3
   },
   "file_extension": ".py",
   "mimetype": "text/x-python",
   "name": "python",
   "nbconvert_exporter": "python",
   "pygments_lexer": "ipython3",
   "version": "3.8.3"
  }
 },
 "nbformat": 4,
 "nbformat_minor": 4
}
